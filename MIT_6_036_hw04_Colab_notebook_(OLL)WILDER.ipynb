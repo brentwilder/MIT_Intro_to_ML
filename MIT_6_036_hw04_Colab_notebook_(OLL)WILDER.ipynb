{
  "nbformat": 4,
  "nbformat_minor": 0,
  "metadata": {
    "colab": {
      "name": "MIT 6.036 hw04 Colab notebook (OLL)WILDER",
      "provenance": [],
      "collapsed_sections": [],
      "include_colab_link": true
    },
    "kernelspec": {
      "name": "python3",
      "display_name": "Python 3"
    }
  },
  "cells": [
    {
      "cell_type": "markdown",
      "metadata": {
        "id": "view-in-github",
        "colab_type": "text"
      },
      "source": [
        "<a href=\"https://colab.research.google.com/github/bwilder95/MIT_Intro_to_ML/blob/main/MIT_6_036_hw04_Colab_notebook_(OLL)WILDER.ipynb\" target=\"_parent\"><img src=\"https://colab.research.google.com/assets/colab-badge.svg\" alt=\"Open In Colab\"/></a>"
      ]
    },
    {
      "cell_type": "markdown",
      "metadata": {
        "id": "Wmv3jlgr4_Ji"
      },
      "source": [
        "# MIT 6.036 Spring 2019: Homework 4\n",
        "This homework does not include provided Python code. Instead, we\n",
        "encourage you to write your own code to help you answer some of these\n",
        "problems, and/or test and debug the code components we do ask for.\n",
        "Some of the problems below are simple enough that hand calculation\n",
        "should be possible; your hand solutions can serve as test cases for\n",
        "your code.  You may also find that including utilities written in\n",
        "previous labs (like a `sd` or signed distance function) will be\n",
        "helpful, as you build up additional functions and utilities for\n",
        "calculation of margins, different loss functions, gradients, and other\n",
        "functions needed for margin maximization and gradient descent."
      ]
    },
    {
      "cell_type": "code",
      "metadata": {
        "id": "N622h8-D5i-M"
      },
      "source": [
        "import numpy as np\n",
        "import matplotlib.pyplot as plt"
      ],
      "execution_count": 1,
      "outputs": []
    },
    {
      "cell_type": "markdown",
      "metadata": {
        "id": "N-XwM9lnEHQh"
      },
      "source": [
        "# Warm up\n",
        "# 2) Margin Practice"
      ]
    },
    {
      "cell_type": "code",
      "metadata": {
        "colab": {
          "base_uri": "https://localhost:8080/"
        },
        "id": "dW-OEQulEEV6",
        "outputId": "8130e8a6-5d96-499c-af41-835fda79523d"
      },
      "source": [
        "data = np.array([[3,2], [1,1], [4,2]]).T\n",
        "labels = np.array([1,-1, -1])\n",
        "theta = np.array([[1,1]]).T\n",
        "theta_0 = -4\n",
        "print(data,labels.shape)"
      ],
      "execution_count": 2,
      "outputs": [
        {
          "output_type": "stream",
          "text": [
            "[[3 1 4]\n",
            " [2 1 2]] (3,)\n"
          ],
          "name": "stdout"
        }
      ]
    },
    {
      "cell_type": "code",
      "metadata": {
        "colab": {
          "base_uri": "https://localhost:8080/",
          "height": 596
        },
        "id": "2yav5Up4EEbq",
        "outputId": "d1f2b78a-e0fa-4e39-c93b-95b78bbf2597"
      },
      "source": [
        "x,y = data\n",
        "fig, ax = plt.subplots(figsize=(10,10))\n",
        "ax.grid(True)\n",
        "ax.scatter(x, y, c=labels, cmap='Set1',marker='o',s=1000)\n",
        "\n",
        "x1 = np.linspace(-10,10,100)\n",
        "x2 = -theta[0,:]/theta[1,:] * x1 - theta_0/theta[1,:]\n",
        "ax.plot(x1, x2, 'black',linewidth=7,linestyle='--')\n",
        "\n",
        "plt.ylim(0,5)\n",
        "plt.xlim(0,5)\n",
        "plt.show()"
      ],
      "execution_count": 3,
      "outputs": [
        {
          "output_type": "display_data",
          "data": {
            "image/png": "[encoded data removed]",
            "text/plain": [
              "<Figure size 720x720 with 1 Axes>"
            ]
          },
          "metadata": {
            "tags": [],
            "needs_background": "light"
          }
        }
      ]
    },
    {
      "cell_type": "code",
      "metadata": {
        "id": "OfR9Nnx6EEe0"
      },
      "source": [
        "# find margin for all three points\n",
        "def margin(x,y,theta,theta_0):\n",
        "  \"\"\"\n",
        "  x = list of data (x1,x2)\n",
        "  y = integer of label (-1 or 1)\n",
        "  theta = array represent linear separator \n",
        "  theta_0 = integer represent linear separator\n",
        "\n",
        "  \"\"\"\n",
        "  print('')\n",
        "\n",
        "  return y * ((theta.T@x+theta_0) / np.linalg.norm(theta))"
      ],
      "execution_count": 4,
      "outputs": []
    },
    {
      "cell_type": "code",
      "metadata": {
        "colab": {
          "base_uri": "https://localhost:8080/"
        },
        "id": "BYsPM86YModa",
        "outputId": "0ea8bc90-4022-4548-ee89-9f70ba16cf6e"
      },
      "source": [
        "print('1st point margin = ' + str(margin([3,2],1,theta,theta_0)))\n",
        "print('2nd point margin = ' + str(margin([1,1],-1,theta,theta_0)))\n",
        "print('3rd point margin = ' + str(margin([4,2],-1,theta,theta_0)))\n",
        "print('--------------------------------------------------------')\n",
        "print('solution -->  [0.70710678, 1.41421356, -1.41421356]')"
      ],
      "execution_count": 5,
      "outputs": [
        {
          "output_type": "stream",
          "text": [
            "\n",
            "1st point margin = [0.70710678]\n",
            "\n",
            "2nd point margin = [1.41421356]\n",
            "\n",
            "3rd point margin = [-1.41421356]\n",
            "--------------------------------------------------------\n",
            "solution -->  [0.70710678, 1.41421356, -1.41421356]\n"
          ],
          "name": "stdout"
        }
      ]
    },
    {
      "cell_type": "markdown",
      "metadata": {
        "id": "O5Ny2S5KXPPe"
      },
      "source": [
        "# 3) Max Margin Separator"
      ]
    },
    {
      "cell_type": "code",
      "metadata": {
        "colab": {
          "base_uri": "https://localhost:8080/",
          "height": 596
        },
        "id": "5T6n19L5XODs",
        "outputId": "9af3c2a7-fe72-44d2-ec95-60cc73c5eaaf"
      },
      "source": [
        "data = np.array([[1,3], [1,1], [3,4] , [3,2]]).T\n",
        "labels = np.array([-1,-1, 1,1])\n",
        "theta = np.array([[0,1]]).T\n",
        "theta_0 = -3\n",
        "\n",
        "xd,yd = data\n",
        "fig, ax = plt.subplots(figsize=(10,10))\n",
        "ax.grid(True)\n",
        "ax.scatter(xd, yd, c=labels, cmap='Set1',marker='o',s=1000)\n",
        "\n",
        "x1 = np.linspace(-10,10,100)\n",
        "x2 = -theta[0,:]/theta[1,:] * x1 - theta_0/theta[1,:]\n",
        "ax.plot(x1, x2, 'black',linewidth=7,linestyle='--')\n",
        "\n",
        "plt.ylim(0,5)\n",
        "plt.xlim(0,5)\n",
        "plt.show()"
      ],
      "execution_count": 6,
      "outputs": [
        {
          "output_type": "display_data",
          "data": {
            "image/png": "[encoded data removed]",
            "text/plain": [
              "<Figure size 720x720 with 1 Axes>"
            ]
          },
          "metadata": {
            "tags": [],
            "needs_background": "light"
          }
        }
      ]
    },
    {
      "cell_type": "code",
      "metadata": {
        "colab": {
          "base_uri": "https://localhost:8080/"
        },
        "id": "xIm3gugcXOPw",
        "outputId": "54810fd6-4e45-4935-9bed-536001b8818c"
      },
      "source": [
        "print('1st point margin = ' + str(margin([1,3],-1,theta,theta_0)))\n",
        "print('2nd point margin = ' + str(margin([1,1],-1,theta,theta_0)))\n",
        "print('3rd point margin = ' + str(margin([3,4],1,theta,theta_0)))\n",
        "print('4th point margin = ' + str(margin([3,2],1,theta,theta_0)))"
      ],
      "execution_count": 7,
      "outputs": [
        {
          "output_type": "stream",
          "text": [
            "\n",
            "1st point margin = [-0.]\n",
            "\n",
            "2nd point margin = [2.]\n",
            "\n",
            "3rd point margin = [1.]\n",
            "\n",
            "4th point margin = [-1.]\n"
          ],
          "name": "stdout"
        }
      ]
    },
    {
      "cell_type": "code",
      "metadata": {
        "id": "9GCX3kA-hDwA"
      },
      "source": [
        "# Perceptron algorithm with offset.\n",
        "# data is dimension d by n\n",
        "# labels is dimension 1 by n\n",
        "# T is a positive integer number of steps to run\n",
        "def perceptron(data, labels, hook, params = {}):\n",
        "    # if T not in params, default to 100\n",
        "    T = params.get('T', 50)\n",
        "    (d, n) = data.shape\n",
        "\n",
        "    theta = np.zeros((d, 1)); theta_0 = np.zeros((1, 1))\n",
        "    for t in range(T):\n",
        "        for i in range(n):\n",
        "            x = data[:,i:i+1]\n",
        "            y = labels[i:i+1]\n",
        "            if y * positive(x, theta, theta_0) <= 0.0:\n",
        "                theta = theta + y * x\n",
        "                theta_0 = theta_0 + y\n",
        "                if t == hook:\n",
        "                  return theta, theta_0\n",
        "    return theta, theta_0\n",
        "\n",
        "\n",
        "def positive(x, th, th0):\n",
        "    return np.sign(th.T@x + th0)\n",
        "\n",
        "\n"
      ],
      "execution_count": 8,
      "outputs": []
    },
    {
      "cell_type": "code",
      "metadata": {
        "colab": {
          "base_uri": "https://localhost:8080/"
        },
        "id": "PQF1glMCXOSg",
        "outputId": "9797007f-e9b2-4e6b-96ba-070e0d0f5bb9"
      },
      "source": [
        "data = np.array([[1,3], [1,1], [3,4] , [3,2]]).T\n",
        "labels = np.array([-1,-1, 1,1])\n",
        "\n",
        "print(perceptron(data,labels,hook=None))\n",
        "\n",
        "print('correct answer is ' + '[1, 0, -2]')"
      ],
      "execution_count": 9,
      "outputs": [
        {
          "output_type": "stream",
          "text": [
            "(array([[ 5.],\n",
            "       [-2.]]), array([[-5.]]))\n",
            "correct answer is [1, 0, -2]\n"
          ],
          "name": "stdout"
        }
      ]
    },
    {
      "cell_type": "markdown",
      "metadata": {
        "id": "h_R7heH8jQU0"
      },
      "source": [
        "# Start of HW 4"
      ]
    },
    {
      "cell_type": "markdown",
      "metadata": {
        "id": "rO0-NR_1HQ-J"
      },
      "source": [
        "### 1) Margin"
      ]
    },
    {
      "cell_type": "code",
      "metadata": {
        "id": "CBn5zrG7HOEA"
      },
      "source": [
        "data = np.array([[1, 2, 1, 2, 10, 10.3, 10.5, 10.7],\n",
        "                 [1, 1, 2, 2,  2,  2,  2, 2]])\n",
        "\n",
        "labels = np.array([[-1, -1, 1, 1, 1, 1, 1, 1]])\n",
        "blue_th = np.array([[0, 1]]).T\n",
        "blue_th0 = -1.5\n",
        "red_th = np.array([[1, 0]]).T\n",
        "red_th0 = -2.5"
      ],
      "execution_count": 10,
      "outputs": []
    },
    {
      "cell_type": "code",
      "metadata": {
        "id": "vDl2E7nPKK6j"
      },
      "source": [
        "# find margin for all three points\n",
        "def margin(x,y,theta,theta_0):\n",
        "  \"\"\"\n",
        "  x = list of data (x1,x2)\n",
        "  y = integer of label (-1 or 1)\n",
        "  theta = array represent linear separator \n",
        "  theta_0 = integer represent linear separator\n",
        "\n",
        "  \"\"\"\n",
        "  print('')\n",
        "  Smax = np.max(y * ((theta.T@x+theta_0) / np.linalg.norm(theta)))\n",
        "  Smin = np.min(y * ((theta.T@x+theta_0) / np.linalg.norm(theta)))\n",
        "  Ssum = np.sum(y * ((theta.T@x+theta_0) / np.linalg.norm(theta)))\n",
        "  return (Ssum,Smin,Smax)"
      ],
      "execution_count": 11,
      "outputs": []
    },
    {
      "cell_type": "code",
      "metadata": {
        "colab": {
          "base_uri": "https://localhost:8080/"
        },
        "id": "P6W9Vk5bKLKG",
        "outputId": "1391a5de-3e33-46fa-cdae-2369c4e39631"
      },
      "source": [
        "# blue separator  Smax = max(y * ((theta.T@x+theta_0) / np.linalg.norm(theta)))\n",
        "margin(data,labels,blue_th,blue_th0)"
      ],
      "execution_count": 12,
      "outputs": [
        {
          "output_type": "stream",
          "text": [
            "\n"
          ],
          "name": "stdout"
        },
        {
          "output_type": "execute_result",
          "data": {
            "text/plain": [
              "(4.0, 0.5, 0.5)"
            ]
          },
          "metadata": {
            "tags": []
          },
          "execution_count": 12
        }
      ]
    },
    {
      "cell_type": "code",
      "metadata": {
        "colab": {
          "base_uri": "https://localhost:8080/"
        },
        "id": "mWNX1vNVKLWm",
        "outputId": "e9006b16-63c9-4631-9fa5-ba453124d31c"
      },
      "source": [
        "# red separator\n",
        "margin(data,labels,red_th,red_th0)"
      ],
      "execution_count": 13,
      "outputs": [
        {
          "output_type": "stream",
          "text": [
            "\n"
          ],
          "name": "stdout"
        },
        {
          "output_type": "execute_result",
          "data": {
            "text/plain": [
              "(31.5, -1.5, 8.2)"
            ]
          },
          "metadata": {
            "tags": []
          },
          "execution_count": 13
        }
      ]
    },
    {
      "cell_type": "markdown",
      "metadata": {
        "id": "jUS51a8m5rEI"
      },
      "source": [
        "## 6) Implementing gradient descent\n",
        "In this section we will implement generic versions of gradient descent and apply these to the SVM objective.\n",
        "\n",
        "<b>Note: </b> If you need a refresher on gradient descent,\n",
        "you may want to reference\n",
        "<a href=\"https://openlearninglibrary.mit.edu/courses/course-v1:MITx+6.036+1T2019/courseware/Week4/gradient_descent/2\">this week's notes</a>.\n",
        "\n",
        "### 6.1) Implementing Gradient Descent\n",
        "We want to find the $x$ that minimizes the value of the *objective\n",
        "function* $f(x)$, for an arbitrary scalar function $f$.  The function\n",
        "$f$ will be implemented as a Python function of one argument, that\n",
        "will be a numpy column vector.  For efficiency, we will work with\n",
        "Python functions that return not just the value of $f$ at $f(x)$ but\n",
        "also return the gradient vector at $x$, that is, $\\nabla_x f(x)$.\n",
        "\n",
        "We will now implement a generic gradient descent function, `gd`, that\n",
        "has the following input arguments:\n",
        "\n",
        "* `f`: a function whose input is an `x`, a column vector, and\n",
        "  returns a scalar.\n",
        "* `df`: a function whose input is an `x`, a column vector, and\n",
        "  returns a column vector representing the gradient of `f` at `x`.\n",
        "* `x0`: an initial value of $x$, `x0`, which is a column vector.\n",
        "* `step_size_fn`: a function that is given the iteration index (an\n",
        "  integer) and returns a step size.\n",
        "* `max_iter`: the number of iterations to perform\n",
        "\n",
        "Our function `gd` returns a tuple:\n",
        "\n",
        "* `x`: the value at the final step\n",
        "* `fs`: the list of values of `f` found during all the iterations (including `f(x0)`)\n",
        "* `xs`: the list of values of `x` found during all the iterations (including `x0`)\n",
        "\n",
        "**Hint:** This is a short function!\n",
        "\n",
        "**Hint 2:** If you do `temp_x = x` where `x` is a vector\n",
        "(numpy array), then `temp_x` is just another name for the same vector\n",
        "as `x` and changing an entry in one will change an entry in the other.\n",
        "You should either use `x.copy()` or remember to change entries back after modification.\n",
        "\n",
        "Some utilities you may find useful are included below."
      ]
    },
    {
      "cell_type": "code",
      "metadata": {
        "id": "jhwvv35KMnoU"
      },
      "source": [
        ""
      ],
      "execution_count": 57,
      "outputs": []
    },
    {
      "cell_type": "code",
      "metadata": {
        "id": "l8e5gUuoEDGj"
      },
      "source": [
        ""
      ],
      "execution_count": 57,
      "outputs": []
    },
    {
      "cell_type": "code",
      "metadata": {
        "id": "fYOF0HS34YOj"
      },
      "source": [
        "def rv(value_list):\n",
        "    return np.array([value_list])\n",
        "\n",
        "def cv(value_list):\n",
        "    return np.transpose(rv(value_list))\n",
        "\n",
        "def f1(x):\n",
        "    return float((2 * x + 3)**2)\n",
        "\n",
        "def df1(x):\n",
        "    return 2 * 2 * (2 * x + 3)\n",
        "\n",
        "def f2(v):\n",
        "    x = float(v[0]); y = float(v[1])\n",
        "    return (x - 2.) * (x - 3.) * (x + 3.) * (x + 1.) + (x + y -1)**2\n",
        "\n",
        "def df2(v):\n",
        "    x = float(v[0]); y = float(v[1])\n",
        "    return cv([(-3. + x) * (-2. + x) * (1. + x) + \\\n",
        "               (-3. + x) * (-2. + x) * (3. + x) + \\\n",
        "               (-3. + x) * (1. + x) * (3. + x) + \\\n",
        "               (-2. + x) * (1. + x) * (3. + x) + \\\n",
        "               2 * (-1. + x + y),\n",
        "               2 * (-1. + x + y)])"
      ],
      "execution_count": 58,
      "outputs": []
    },
    {
      "cell_type": "markdown",
      "metadata": {
        "id": "s03NFuxG6kvt"
      },
      "source": [
        "The main function to implement is `gd`, defined below."
      ]
    },
    {
      "cell_type": "code",
      "metadata": {
        "id": "mNsLE3bg6jt9"
      },
      "source": [
        "def gd(f, df, x0, step_size_fn, max_iter):\n",
        "  # define initial conditions\n",
        "  j = 0\n",
        "  x = x0\n",
        "  xs = []\n",
        "  fs = []\n",
        "\n",
        "  # append initial x0 and f to list \n",
        "  xs.append(x)\n",
        "  fs.append(f(x))\n",
        "\n",
        "  # initiate while loop with gradient descent\n",
        "  while j <= max_iter:\n",
        "    xold = x\n",
        "    x = xold - step_size_fn(j)*df(x)\n",
        "    xs.append(x)\n",
        "    fs.append(f(x))\n",
        "    j += 1\n",
        "  \n",
        "  return (x,fs,xs)"
      ],
      "execution_count": 59,
      "outputs": []
    },
    {
      "cell_type": "markdown",
      "metadata": {
        "id": "jXu60n-H5_Hz"
      },
      "source": [
        "To evaluate results, we also use a simple `package_ans` function,\n",
        "which checks the final `x`, as well as the first and last values in\n",
        "`fs`, `xs`."
      ]
    },
    {
      "cell_type": "code",
      "metadata": {
        "id": "GJcClaqN4nE6"
      },
      "source": [
        "def package_ans(gd_vals):\n",
        "    x, fs, xs = gd_vals\n",
        "    return [x.tolist(), [fs[0], fs[-1]], [xs[0].tolist(), xs[-1].tolist()]]"
      ],
      "execution_count": 60,
      "outputs": []
    },
    {
      "cell_type": "markdown",
      "metadata": {
        "id": "aN_XbacQ6Rue"
      },
      "source": [
        "The test cases are provided below, but you should feel free (and are encouraged!) to write more of your own."
      ]
    },
    {
      "cell_type": "code",
      "metadata": {
        "id": "jq0OJLEf6Dan",
        "colab": {
          "base_uri": "https://localhost:8080/"
        },
        "outputId": "1d88f201-5af6-45f5-9aff-9b8e2c284791"
      },
      "source": [
        "# Test case 1\n",
        "ans=package_ans(gd(f1, df1, cv([0.]), lambda i: 0.1, 1000))\n",
        "print(ans)\n",
        "\n",
        "# Test case 2\n",
        "ans=package_ans(gd(f2, df2, cv([0., 0.]), lambda i: 0.01, 1000))\n",
        "print(ans)\n",
        "\n",
        "print('correct!!! lets go!')"
      ],
      "execution_count": 61,
      "outputs": [
        {
          "output_type": "stream",
          "text": [
            "[[[-1.5]], [9.0, 0.0], [[[0.0]], [[-1.5]]]]\n",
            "[[[-2.205823904175539], [3.205823891191735]], [19.0, -20.967239611348745], [[[0.0], [0.0]], [[-2.205823904175539], [3.205823891191735]]]]\n",
            "correct!!! lets go!\n"
          ],
          "name": "stdout"
        }
      ]
    },
    {
      "cell_type": "markdown",
      "metadata": {
        "id": "pbuSt5hY645k"
      },
      "source": [
        "### 6.2) Numerical Gradient\n",
        "Getting the analytic gradient correct for complicated functions is\n",
        "tricky.  A very handy method of verifying the analytic gradient or\n",
        "even substituting for it is to estimate the gradient at a point by\n",
        "means of *finite differences*.\n",
        "\n",
        "Assume that we are given a function $f(x)$ that takes a column vector\n",
        "as its argument and returns a scalar value.  In gradient descent, we\n",
        "will want to estimate the gradient of $f$ at a particular $x_0.$\n",
        "\n",
        "The $i^{th}$ component of $\\nabla_x f(x_0)$ can be estimated as\n",
        "$$\\frac{f(x_0+\\delta^{i}) - f(x_0-\\delta^{i})}{2\\delta}$$\n",
        "where $\\delta^{i}$ is a column vector whose $i^{th}$ coordinate is\n",
        "$\\delta$, a small constant such as 0.001, and whose other components\n",
        "are zero.\n",
        "Note that adding or subtracting $\\delta^{i}$ is the same as\n",
        "incrementing or decrementing the $i^{th}$ component of $x_0$ by\n",
        "$\\delta$, leaving the other components of $x_0$ unchanged.  Using\n",
        "these results, we can estimate the $i^{th}$ component of the gradient.\n",
        "\n",
        "For example, if $x_0 = (1,1,\\dots,1)^T$ and $\\delta = 0.01$,\n",
        "we may approximate the first component of $\\nabla_x f(x_0)$ as\n",
        "$$\\frac{f((1,1,1,\\dots)^T+(0.01,0,0,\\dots)^T) - f((1,1,1,\\dots)^T-(0.01,0,0,\\dots)^T)}{2\\cdot 0.01}.$$\n",
        "(We add the transpose so that these are column vectors.)\n",
        "**This process should be done for each dimension independently,\n",
        "and together the results of each computation are compiled to give the\n",
        "estimated gradient, which is $d$ dimensional.**\n",
        "\n",
        "Implement this as a function `num_grad` that takes as arguments the\n",
        "objective function `f` and a value of `delta`, and returns a new\n",
        "**function** that takes an `x` (a column vector of parameters) and\n",
        "returns a gradient column vector.\n",
        "\n",
        "**Note:** As in the previous part, make sure you do not modify your input vector."
      ]
    },
    {
      "cell_type": "code",
      "metadata": {
        "id": "WPVwGZ-l6XvW"
      },
      "source": [
        "# my answer\n",
        "def num_grad(f, delta=0.001):\n",
        "    def df(x):\n",
        "      return [(f(x.T+delta) - f(x.T-delta)) / (2*delta)]\n",
        "    return df\n",
        "\n",
        "\n",
        "# correct answer\n",
        "def num_grad(f, delta=0.001):\n",
        "    def df(x):\n",
        "        g = np.zeros(x.shape)\n",
        "        for i in range(x.shape[0]):\n",
        "            xi = x[i,0]\n",
        "            x[i,0] = xi - delta\n",
        "            fxm = f(x)\n",
        "            x[i,0] = xi + delta\n",
        "            fxp = f(x)\n",
        "            x[i,0] = xi\n",
        "            g[i,0] = (fxp - fxm)/(2*delta)\n",
        "        return g\n",
        "    return df  \n",
        "\n",
        "\n",
        "# needed to specify for each entry.. see x.shape etc  "
      ],
      "execution_count": 146,
      "outputs": []
    },
    {
      "cell_type": "markdown",
      "metadata": {
        "id": "kElTR0bL7cbG"
      },
      "source": [
        "The test cases are shown below; these use the functions defined in the previous exercise.\n"
      ]
    },
    {
      "cell_type": "code",
      "metadata": {
        "id": "3D7BHu4S7Z8D"
      },
      "source": [
        "x = cv([0.])\n",
        "ans=(num_grad(f1)(x).tolist(), x.tolist())\n",
        "\n",
        "x = cv([0.1])\n",
        "ans=(num_grad(f1)(x).tolist(), x.tolist())\n",
        "\n",
        "x = cv([0., 0.])\n",
        "ans=(num_grad(f2)(x).tolist(), x.tolist())\n",
        "\n",
        "x = cv([0.1, -0.1])\n",
        "ans=(num_grad(f2)(x).tolist(), x.tolist())"
      ],
      "execution_count": 168,
      "outputs": []
    },
    {
      "cell_type": "markdown",
      "metadata": {
        "id": "WASaSsYu75sG"
      },
      "source": [
        "A faster (one function evaluation per entry), though sometimes less\n",
        "accurate, estimate is to use:\n",
        "$$\\frac{f(x_0+\\delta^{i}) - f(x_0)}{\\delta}$$\n",
        "for the $i^{th}$ component of $\\nabla_x f(x_0).$"
      ]
    },
    {
      "cell_type": "markdown",
      "metadata": {
        "id": "E31sdqyG78jD"
      },
      "source": [
        "### 6.3) Using the Numerical Gradient\n",
        "Recall that our generic gradient descent function takes both a function\n",
        "`f` that returns the value of our function at a given point, and `df`,\n",
        "a function that returns a gradient at a given point.  Write a function\n",
        "`minimize` that takes only a function `f` and uses this function and\n",
        "numerical gradient descent to return the local minimum.  We have\n",
        "provided you with our implementations of `num_grad` and `gd`, so you\n",
        "should not redefine them in the code box below.\n",
        "You may use the default of `delta=0.001` for `num_grad`.\n",
        "\n",
        "**Hint:** Your definition of `minimize` should call `num_grad` exactly\n",
        "once, to return a function that is called many times.\n",
        "You should return the same outputs as `gd`."
      ]
    },
    {
      "cell_type": "code",
      "metadata": {
        "id": "CStwqDem76Bx"
      },
      "source": [
        "def minimize(f, x0, step_size_fn, max_iter):\n",
        "  # define initial conditions\n",
        "  j = 0\n",
        "  x = x0\n",
        "  xs = []\n",
        "  fs = []\n",
        "  # append initial x0 and f to list \n",
        "  xs.append(x)\n",
        "  fs.append(f(x))\n",
        "  # initiate while loop with gradient descent\n",
        "  while j <= max_iter:\n",
        "    xold = x\n",
        "    x = xold - step_size_fn(j)*(num_grad(f)(x))\n",
        "    xs.append(x)\n",
        "    fs.append(f(x))\n",
        "    j += 1\n",
        "\n",
        "  return (x,fs,xs)"
      ],
      "execution_count": 169,
      "outputs": []
    },
    {
      "cell_type": "markdown",
      "metadata": {
        "id": "4gl0FTby8EQq"
      },
      "source": [
        "The test cases are below."
      ]
    },
    {
      "cell_type": "code",
      "metadata": {
        "id": "UxBLWJFm8DnV",
        "colab": {
          "base_uri": "https://localhost:8080/"
        },
        "outputId": "df7e14f9-123d-4860-b3b2-014ba9379cbb"
      },
      "source": [
        "ans = package_ans(minimize(f1, cv([0.]), lambda i: 0.1, 1000))\n",
        "print(ans)\n",
        "\n",
        "ans = package_ans(minimize(f2, cv([0., 0.]), lambda i: 0.01, 1000))\n",
        "print(ans)\n",
        "print('Correct!! Lets go!')"
      ],
      "execution_count": 172,
      "outputs": [
        {
          "output_type": "stream",
          "text": [
            "[[[-1.5]], [9.0, 0.0], [[[0.0]], [[-1.5]]]]\n",
            "[[[-2.2058237062164276], [3.205823693232599]], [19.0, -20.967239611347775], [[[0.0], [0.0]], [[-2.2058237062164276], [3.205823693232599]]]]\n",
            "Correct!! Lets go!\n"
          ],
          "name": "stdout"
        }
      ]
    },
    {
      "cell_type": "code",
      "metadata": {
        "id": "zlqceXAaMW8i"
      },
      "source": [
        "# more correct answer they provide I guess?\n",
        "def minimize(f, x0, step_size_fn, max_iter):\n",
        "    df = num_grad(f)\n",
        "    return gd(f, df, x0, step_size_fn, max_iter)\n",
        "\n",
        "# their formatting of the answers is a little annoying"
      ],
      "execution_count": 173,
      "outputs": []
    },
    {
      "cell_type": "markdown",
      "metadata": {
        "id": "BH-1e98V8LtM"
      },
      "source": [
        "## 7) Applying gradient descent to SVM objective\n",
        "\n",
        "**Note:** In this section,\n",
        "you will code many individual functions, each of which depends on previous ones.\n",
        "We **strongly recommend** that you test each of the components on your own to debug.\n",
        "\n",
        "### 7.1) Calculating the SVM objective\n",
        "\n",
        "Implement the single-argument hinge function, which computes $L_h$,\n",
        "and use that to implement hinge loss for a data point and separator.\n",
        "Using the latter function, implement the SVM objective.\n",
        "Note that these functions should work for matrix/vector arguments,\n",
        "so that we can compute the objective for a whole dataset with one call.\n",
        "<pre> x is d x n, y is 1 x n, th is d x 1, th0 is 1 x 1, lam is a scalar </pre>\n",
        "\n",
        "Hint: Look at `np.where` for implementing `hinge`."
      ]
    },
    {
      "cell_type": "code",
      "metadata": {
        "id": "F_6E78BF8e2W"
      },
      "source": [
        "def hinge(v):\n",
        "    return np.where(v >= 1, 0, 1 - v)\n",
        "\n",
        "def hinge_loss(x, y, th, th0):\n",
        "    return hinge(y * (np.dot(th.T, x) + th0))\n",
        "\n",
        "def svm_obj(X, y, th, th0, lam):\n",
        "    return np.mean(hinge_loss(X, y, th, th0)) + lam * np.linalg.norm(th) ** 2"
      ],
      "execution_count": 174,
      "outputs": []
    },
    {
      "cell_type": "markdown",
      "metadata": {
        "id": "QY1NJEOP8jCC"
      },
      "source": [
        "In the test cases for this problem, we'll use the following\n",
        "`super_simple_separable` test dataset and test separator for some of\n",
        "the tests.  A couple of the test cases are also shown below."
      ]
    },
    {
      "cell_type": "code",
      "metadata": {
        "id": "POFvK7zW8iYK"
      },
      "source": [
        "def super_simple_separable():\n",
        "    X = np.array([[2, 3, 9, 12],\n",
        "                  [5, 2, 6, 5]])\n",
        "    y = np.array([[1, -1, 1, -1]])\n",
        "    return X, y\n",
        "\n",
        "sep_e_separator = np.array([[-0.40338351], [1.1849563]]), np.array([[-2.26910091]])\n",
        "\n",
        "# Test case 1\n",
        "x_1, y_1 = super_simple_separable()\n",
        "th1, th1_0 = sep_e_separator\n",
        "ans = svm_obj(x_1, y_1, th1, th1_0, .1)\n",
        "\n",
        "# Test case 2\n",
        "ans = svm_obj(x_1, y_1, th1, th1_0, 0.0)"
      ],
      "execution_count": 175,
      "outputs": []
    },
    {
      "cell_type": "markdown",
      "metadata": {
        "id": "ZjBB0R4u8tF1"
      },
      "source": [
        "### 7.2) Calculating the SVM gradient\n",
        "\n",
        "Define a function `svm_obj_grad` that returns the gradient of the SVM\n",
        "objective function with respect to $\\theta$ and $\\theta_0$ in a single\n",
        "column vector.  The last component of the gradient vector should be\n",
        "the partial derivative with respect to $\\theta_0$.  Look at\n",
        "`np.vstack` as a simple way of stacking two matrices/vectors\n",
        "vertically.  We have broken it down into pieces that mimic steps in\n",
        "the chain rule; this leads to code that is a bit inefficient but\n",
        "easier to write and debug.  We can worry about efficiency later."
      ]
    },
    {
      "cell_type": "code",
      "metadata": {
        "id": "lAtDiGVK8vnt"
      },
      "source": [
        "def d_hinge(v):\n",
        "    return np.where(v >= 1, 0, -1)\n",
        "def d_hinge_loss_th(x, y, th, th0):\n",
        "    return d_hinge(y*(np.dot(th.T, x) + th0))* y * x\n",
        "def d_hinge_loss_th0(x, y, th, th0):\n",
        "    return d_hinge(y*(np.dot(th.T, x) + th0)) * y\n",
        "def d_svm_obj_th(x, y, th, th0, lam):\n",
        "    return np.mean(d_hinge_loss_th(x, y, th, th0), axis = 1, keepdims = True) + lam * 2 * th\n",
        "def d_svm_obj_th0(x, y, th, th0, lam):\n",
        "    return np.mean(d_hinge_loss_th0(x, y, th, th0), axis = 1, keepdims = True)\n",
        "def svm_obj_grad(X, y, th, th0, lam):\n",
        "    grad_th = d_svm_obj_th(X, y, th, th0, lam)\n",
        "    grad_th0 = d_svm_obj_th0(X, y, th, th0, lam)\n",
        "    return np.vstack([grad_th, grad_th0])"
      ],
      "execution_count": 176,
      "outputs": []
    },
    {
      "cell_type": "markdown",
      "metadata": {
        "id": "LDP6H_2P80vm"
      },
      "source": [
        "Some test cases that may be of use are shown below."
      ]
    },
    {
      "cell_type": "code",
      "metadata": {
        "id": "xNuF6-c38yji"
      },
      "source": [
        "X1 = np.array([[1, 2, 3, 9, 10]])\n",
        "y1 = np.array([[1, 1, 1, -1, -1]])\n",
        "th1, th10 = np.array([[-0.31202807]]), np.array([[1.834     ]])\n",
        "X2 = np.array([[2, 3, 9, 12],\n",
        "               [5, 2, 6, 5]])\n",
        "y2 = np.array([[1, -1, 1, -1]])\n",
        "th2, th20=np.array([[ -3.,  15.]]).T, np.array([[ 2.]])"
      ],
      "execution_count": 178,
      "outputs": []
    },
    {
      "cell_type": "code",
      "metadata": {
        "id": "tZ9Q6k935tLY",
        "colab": {
          "base_uri": "https://localhost:8080/"
        },
        "outputId": "c8f3e52d-9f76-480c-b04f-f3639aefb9a6"
      },
      "source": [
        "d_hinge(np.array([[ 71.]])).tolist()\n",
        "d_hinge(np.array([[ -23.]])).tolist()\n",
        "d_hinge(np.array([[ 71, -23.]])).tolist()"
      ],
      "execution_count": 179,
      "outputs": [
        {
          "output_type": "execute_result",
          "data": {
            "text/plain": [
              "[[0, -1]]"
            ]
          },
          "metadata": {
            "tags": []
          },
          "execution_count": 179
        }
      ]
    },
    {
      "cell_type": "code",
      "metadata": {
        "id": "5fcjaWEo5uWo",
        "colab": {
          "base_uri": "https://localhost:8080/"
        },
        "outputId": "a96a87b2-5ccb-4b42-eeb5-17df37c0b592"
      },
      "source": [
        "d_hinge_loss_th(X2[:,0:1], y2[:,0:1], th2, th20).tolist()\n",
        "d_hinge_loss_th(X2, y2, th2, th20).tolist()\n",
        "d_hinge_loss_th0(X2[:,0:1], y2[:,0:1], th2, th20).tolist()\n",
        "d_hinge_loss_th0(X2, y2, th2, th20).tolist()"
      ],
      "execution_count": 180,
      "outputs": [
        {
          "output_type": "execute_result",
          "data": {
            "text/plain": [
              "[[0, 1, 0, 1]]"
            ]
          },
          "metadata": {
            "tags": []
          },
          "execution_count": 180
        }
      ]
    },
    {
      "cell_type": "code",
      "metadata": {
        "id": "FkjrEb5y5xBU",
        "colab": {
          "base_uri": "https://localhost:8080/"
        },
        "outputId": "7383bb24-a981-4016-ee31-d9a549d2637d"
      },
      "source": [
        "d_svm_obj_th(X2[:,0:1], y2[:,0:1], th2, th20, 0.01).tolist()\n",
        "d_svm_obj_th(X2, y2, th2, th20, 0.01).tolist()\n",
        "d_svm_obj_th0(X2[:,0:1], y2[:,0:1], th2, th20, 0.01).tolist()\n",
        "d_svm_obj_th0(X2, y2, th2, th20, 0.01).tolist()"
      ],
      "execution_count": 181,
      "outputs": [
        {
          "output_type": "execute_result",
          "data": {
            "text/plain": [
              "[[0.5]]"
            ]
          },
          "metadata": {
            "tags": []
          },
          "execution_count": 181
        }
      ]
    },
    {
      "cell_type": "code",
      "metadata": {
        "id": "BB7axWab58Lp",
        "colab": {
          "base_uri": "https://localhost:8080/"
        },
        "outputId": "78965115-42b5-4dcd-a7e6-b881cf826d87"
      },
      "source": [
        "svm_obj_grad(X2, y2, th2, th20, 0.01).tolist()\n",
        "svm_obj_grad(X2[:,0:1], y2[:,0:1], th2, th20, 0.01).tolist()"
      ],
      "execution_count": 182,
      "outputs": [
        {
          "output_type": "execute_result",
          "data": {
            "text/plain": [
              "[[-0.06], [0.3], [0.0]]"
            ]
          },
          "metadata": {
            "tags": []
          },
          "execution_count": 182
        }
      ]
    },
    {
      "cell_type": "markdown",
      "metadata": {
        "id": "3vf6OFEU89pC"
      },
      "source": [
        "### 7.3) Batch SVM minimize\n",
        "\n",
        "Putting it all together, use the functions you built earlier to write\n",
        "a gradient descent minimizer for the SVM objective.  You do not need\n",
        "to paste in your previous definitions; you can just call the ones\n",
        "defined by the staff.  You will need to call `gd`, which is already\n",
        "defined for you as well; your function `batch_svm_min` should return\n",
        "the values that `gd` does.\n",
        "\n",
        "* Initialize all the separator parameters to zero,\n",
        "* use the step size function provided below, and\n",
        "* specify 10 iterations."
      ]
    },
    {
      "cell_type": "code",
      "metadata": {
        "id": "dIqWIYnq8_Nb"
      },
      "source": [
        "def batch_svm_min(data, labels, lam):\n",
        "    def svm_min_step_size_fn(i):\n",
        "       return 2/(i+1)**0.5\n",
        "    init = np.zeros((data.shape[0] + 1, 1))\n",
        "\n",
        "    def f(th):\n",
        "      return svm_obj(data, labels, th[:-1, :], th[-1:,:], lam)\n",
        "\n",
        "    def df(th):\n",
        "      return svm_obj_grad(data, labels, th[:-1, :], th[-1:,:], lam)\n",
        "\n",
        "    x, fs, xs = gd(f, df, init, svm_min_step_size_fn, 10)\n",
        "    return x, fs, xs"
      ],
      "execution_count": 186,
      "outputs": []
    },
    {
      "cell_type": "markdown",
      "metadata": {
        "id": "JH4xd7C-9BIm"
      },
      "source": [
        "Test cases are shown below, where an additional separable test\n",
        "data set has been specified."
      ]
    },
    {
      "cell_type": "code",
      "metadata": {
        "id": "HgOC_i879Acd"
      },
      "source": [
        "def separable_medium():\n",
        "    X = np.array([[2, -1, 1, 1],\n",
        "                  [-2, 2, 2, -1]])\n",
        "    y = np.array([[1, -1, 1, -1]])\n",
        "    return X, y\n",
        "sep_m_separator = np.array([[ 2.69231855], [ 0.67624906]]), np.array([[-3.02402521]])\n",
        "\n",
        "x_1, y_1 = super_simple_separable()\n",
        "ans = package_ans(batch_svm_min(x_1, y_1, 0.0001))\n",
        "\n",
        "x_1, y_1 = separable_medium()\n",
        "ans = package_ans(batch_svm_min(x_1, y_1, 0.0001))"
      ],
      "execution_count": 187,
      "outputs": []
    },
    {
      "cell_type": "markdown",
      "metadata": {
        "id": "4tFslLvo5X9w"
      },
      "source": [
        "### 7.4) Numerical SVM objective (Optional)\n",
        "\n",
        "Recall from the previous question that we were able to closely approximate gradients\n",
        "with numerical estimates.\n",
        "We may apply the same technique to optimize the SVM objective.\n",
        "\n",
        "Using your definition of `minimize` and `num_grad` from the previous problem,\n",
        "implement a function that optimizes the SVM objective through numeric approximations.\n",
        "\n",
        "How well does this function perform, compared to the analytical result?\n",
        "Consider both accuracy and runtime."
      ]
    }
  ]
}